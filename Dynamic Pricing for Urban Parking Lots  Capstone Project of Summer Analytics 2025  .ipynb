{
 "cells": [
  {
   "cell_type": "code",
   "execution_count": 2,
   "id": "488c528f",
   "metadata": {},
   "outputs": [
    {
     "name": "stdout",
     "output_type": "stream",
     "text": [
      "Index(['ID', 'SystemCodeNumber', 'Capacity', 'Latitude', 'Longitude',\n",
      "       'Occupancy', 'VehicleType', 'TrafficConditionNearby', 'QueueLength',\n",
      "       'IsSpecialDay', 'LastUpdatedDate', 'LastUpdatedTime'],\n",
      "      dtype='object')\n",
      "   ID SystemCodeNumber  Capacity   Latitude  Longitude  Occupancy VehicleType  \\\n",
      "0   0      BHMBCCMKT01       577  26.144536  91.736172         61         car   \n",
      "1   1      BHMBCCMKT01       577  26.144536  91.736172         64         car   \n",
      "2   2      BHMBCCMKT01       577  26.144536  91.736172         80         car   \n",
      "3   3      BHMBCCMKT01       577  26.144536  91.736172        107         car   \n",
      "4   4      BHMBCCMKT01       577  26.144536  91.736172        150        bike   \n",
      "\n",
      "  TrafficConditionNearby  QueueLength  IsSpecialDay LastUpdatedDate  \\\n",
      "0                    low            1             0      04-10-2016   \n",
      "1                    low            1             0      04-10-2016   \n",
      "2                    low            2             0      04-10-2016   \n",
      "3                    low            2             0      04-10-2016   \n",
      "4                    low            2             0      04-10-2016   \n",
      "\n",
      "  LastUpdatedTime  \n",
      "0        07:59:00  \n",
      "1        08:25:00  \n",
      "2        08:59:00  \n",
      "3        09:32:00  \n",
      "4        09:59:00  \n"
     ]
    }
   ],
   "source": [
    "import pandas as pd\n",
    "import numpy as np\n",
    "df = pd.read_csv(\"dataset.csv\")\n",
    "print(df.columns)\n",
    "print(df.head())\n"
   ]
  },
  {
   "cell_type": "code",
   "execution_count": 8,
   "id": "4a6c6f38",
   "metadata": {},
   "outputs": [],
   "source": [
    "df['timestamp'] = pd.to_datetime(df['LastUpdatedDate'] + ' ' + df['LastUpdatedTime'])\n"
   ]
  },
  {
   "cell_type": "code",
   "execution_count": 10,
   "id": "c24e02c5",
   "metadata": {},
   "outputs": [
    {
     "name": "stdout",
     "output_type": "stream",
     "text": [
      "['low' 'high' 'average']\n"
     ]
    }
   ],
   "source": [
    "print(df['TrafficConditionNearby'].unique())\n"
   ]
  },
  {
   "cell_type": "code",
   "execution_count": 11,
   "id": "3b59272a",
   "metadata": {},
   "outputs": [],
   "source": [
    "traffic_map = {\n",
    "    'low': 1,\n",
    "    'average': 2,\n",
    "    'high': 3\n",
    "}\n",
    "df['TrafficConditionNearby'] = df['TrafficConditionNearby'].map(traffic_map)\n",
    "df['norm_traffic'] = df['TrafficConditionNearby'] / df['TrafficConditionNearby'].max()\n"
   ]
  },
  {
   "cell_type": "code",
   "execution_count": 12,
   "id": "dbd089f7",
   "metadata": {},
   "outputs": [],
   "source": [
    "df['Capacity'] = pd.to_numeric(df['Capacity'], errors='raise')\n",
    "df['Occupancy'] = pd.to_numeric(df['Occupancy'], errors='raise')\n",
    "df['QueueLength'] = pd.to_numeric(df['QueueLength'], errors='raise')\n",
    "df['IsSpecialDay'] = pd.to_numeric(df['IsSpecialDay'], errors='raise')\n"
   ]
  },
  {
   "cell_type": "code",
   "execution_count": 16,
   "id": "d108878d",
   "metadata": {},
   "outputs": [],
   "source": [
    "df['Capacity'] = pd.to_numeric(df['Capacity'], errors='raise')\n",
    "df['Occupancy'] = pd.to_numeric(df['Occupancy'], errors='raise')\n",
    "df['QueueLength'] = pd.to_numeric(df['QueueLength'], errors='raise')\n",
    "df['IsSpecialDay'] = pd.to_numeric(df['IsSpecialDay'], errors='raise')\n",
    "df['timestamp'] = pd.to_datetime(df['LastUpdatedDate'] + ' ' + df['LastUpdatedTime'])\n",
    "df['occupancy_rate'] = df['Occupancy'] / df['Capacity']\n",
    "df['norm_queue'] = df['QueueLength'] / df['QueueLength'].max()\n",
    "traffic_map = {'Low': 1, 'Medium': 2, 'High': 3}\n",
    "df['TrafficConditionNearby'] = df['TrafficConditionNearby'].map(traffic_map)\n",
    "df['norm_traffic'] = df['TrafficConditionNearby'] / df['TrafficConditionNearby'].max()\n",
    "vehicle_weights = {'car': 1.0, 'bike': 0.5, 'truck': 1.5}\n",
    "df['VehicleType'] = df['VehicleType'].str.lower()\n",
    "df['vehicle_weight'] = df['VehicleType'].map(vehicle_weights).fillna(1.0)\n"
   ]
  },
  {
   "cell_type": "code",
   "execution_count": 17,
   "id": "48e7c376",
   "metadata": {},
   "outputs": [],
   "source": [
    "def baseline_price_model(df, alpha=2.0):\n",
    "    df = df.copy()\n",
    "    df['price'] = 10.0\n",
    "    df.sort_values(by=['SystemCodeNumber', 'timestamp'], inplace=True)\n",
    "\n",
    "    for i in range(1, len(df)):\n",
    "        if df.iloc[i]['SystemCodeNumber'] == df.iloc[i-1]['SystemCodeNumber']:\n",
    "            occ_ratio = df.iloc[i]['Occupancy'] / df.iloc[i]['Capacity']\n",
    "            df.loc[df.index[i], 'price'] = df.iloc[i-1]['price'] + alpha * occ_ratio\n",
    "        else:\n",
    "            df.loc[df.index[i], 'price'] = 10.0\n",
    "    return df\n"
   ]
  },
  {
   "cell_type": "code",
   "execution_count": 18,
   "id": "bedee72f",
   "metadata": {},
   "outputs": [],
   "source": [
    "def demand_price_model(df, base_price=10, alpha=1.5, beta=1.0, gamma=1.0, delta=2.0, epsilon=2.0, lam=0.5):\n",
    "    df = df.copy()\n",
    "\n",
    "    df['raw_demand'] = (\n",
    "        alpha * df['occupancy_rate'] +\n",
    "        beta * df['norm_queue'] -\n",
    "        gamma * df['norm_traffic'] +\n",
    "        delta * df['IsSpecialDay'] +\n",
    "        epsilon * df['vehicle_weight']\n",
    "    )\n",
    "\n",
    "    min_d, max_d = df['raw_demand'].min(), df['raw_demand'].max()\n",
    "    df['norm_demand'] = 2 * ((df['raw_demand'] - min_d) / (max_d - min_d)) - 1\n",
    "\n",
    "    df['price'] = base_price * (1 + lam * df['norm_demand'])\n",
    "    df['price'] = df['price'].clip(lower=5, upper=20)\n",
    "\n",
    "    return df\n"
   ]
  },
  {
   "cell_type": "code",
   "execution_count": 19,
   "id": "d13a7f89",
   "metadata": {},
   "outputs": [],
   "source": [
    "df_baseline = baseline_price_model(df)\n",
    "df_demand = demand_price_model(df)\n"
   ]
  },
  {
   "cell_type": "code",
   "execution_count": 21,
   "id": "c47792d7",
   "metadata": {},
   "outputs": [
    {
     "data": {
      "image/png": "[encoded data removed]",
      "text/plain": [
       "<Figure size 864x432 with 1 Axes>"
      ]
     },
     "metadata": {
      "needs_background": "light"
     },
     "output_type": "display_data"
    }
   ],
   "source": [
    "import matplotlib.pyplot as plt\n",
    "\n",
    "lot = df['SystemCodeNumber'].unique()[0]\n",
    "\n",
    "plt.figure(figsize=(12, 6))\n",
    "plt.plot(df_baseline[df_baseline['SystemCodeNumber'] == lot]['timestamp'],\n",
    "         df_baseline[df_baseline['SystemCodeNumber'] == lot]['price'], label='Baseline')\n",
    "plt.plot(df_demand[df_demand['SystemCodeNumber'] == lot]['timestamp'],\n",
    "         df_demand[df_demand['SystemCodeNumber'] == lot]['price'], label='Demand-Based')\n",
    "plt.xlabel(\"Time\")\n",
    "plt.ylabel(\"Price ($)\")\n",
    "plt.title(f\"Price Trends for Parking Lot: {lot}\")\n",
    "plt.legend()\n",
    "plt.grid(True)\n",
    "plt.show()\n"
   ]
  },
  {
   "cell_type": "code",
   "execution_count": null,
   "id": "98c75893",
   "metadata": {},
   "outputs": [],
   "source": []
  }
 ],
 "metadata": {
  "kernelspec": {
   "display_name": "Python 3",
   "language": "python",
   "name": "python3"
  },
  "language_info": {
   "codemirror_mode": {
    "name": "ipython",
    "version": 3
   },
   "file_extension": ".py",
   "mimetype": "text/x-python",
   "name": "python",
   "nbconvert_exporter": "python",
   "pygments_lexer": "ipython3",
   "version": "3.8.8"
  }
 },
 "nbformat": 4,
 "nbformat_minor": 5
}
